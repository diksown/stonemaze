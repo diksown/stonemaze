{
 "cells": [
  {
   "cell_type": "code",
   "execution_count": 3,
   "metadata": {},
   "outputs": [
    {
     "name": "stdout",
     "output_type": "stream",
     "text": [
      "1: 2000 x 2000 (zeros = 3800243, ones = 199755)\n",
      "2: 2000 x 2000 (zeros = 3800020, ones = 199978)\n",
      "3: 2000 x 2000 (zeros = 3800229, ones = 199769)\n",
      "4: 2500 x 2500 (zeros = 6249903, ones = 23)\n",
      "5: 300 x 300 (zeros = 76529, ones = 13469)\n",
      "a\n"
     ]
    }
   ],
   "source": [
    "from countlines import a\n",
    "a()"
   ]
  }
 ],
 "metadata": {
  "kernelspec": {
   "display_name": "Python 3",
   "language": "python",
   "name": "python3"
  },
  "language_info": {
   "codemirror_mode": {
    "name": "ipython",
    "version": 3
   },
   "file_extension": ".py",
   "mimetype": "text/x-python",
   "name": "python",
   "nbconvert_exporter": "python",
   "pygments_lexer": "ipython3",
   "version": "3.10.6"
  },
  "orig_nbformat": 4
 },
 "nbformat": 4,
 "nbformat_minor": 2
}
